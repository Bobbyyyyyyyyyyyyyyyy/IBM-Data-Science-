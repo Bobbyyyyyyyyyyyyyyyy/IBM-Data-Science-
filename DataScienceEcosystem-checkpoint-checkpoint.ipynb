{
 "cells": [
  {
   "cell_type": "markdown",
   "id": "dd6d5f6d",
   "metadata": {},
   "source": [
    "# Data Science Tools and  Ecosystem"
   ]
  },
  {
   "cell_type": "markdown",
   "id": "4bffed33",
   "metadata": {},
   "source": [
    "In this notebook, Data Science Tools and Ecosystem are summarized."
   ]
  },
  {
   "cell_type": "markdown",
   "id": "b269432c",
   "metadata": {},
   "source": [
    "**Objectives:**\n",
    "\n",
    "* List popular languages for Data Science\n",
    "* List popular libraries for Data Science\n",
    "* List a few examples"
   ]
  },
  {
   "cell_type": "markdown",
   "id": "bd0f5541",
   "metadata": {},
   "source": [
    "Some of the popular languages that Data Scientists use are:\n",
    "\n",
    "1. Java\n",
    "2. Python\n",
    "3. Julia\n",
    "4. Scala\n",
    "5. R"
   ]
  },
  {
   "cell_type": "markdown",
   "id": "20c564fc",
   "metadata": {},
   "source": [
    "Some of the commonly used libraries used by Data Scientists include:\n",
    "\n",
    "1. Pandas\n",
    "2. Numpy\n",
    "3. ggplot"
   ]
  },
  {
   "cell_type": "markdown",
   "id": "e1df3025",
   "metadata": {},
   "source": [
    "|Data Science Tools|\n",
    "|-|\n",
    "|Spark|\n",
    "|Flink|\n",
    "|MySQL|\n",
    "|OpenGuass|"
   ]
  },
  {
   "cell_type": "markdown",
   "id": "b20afe73",
   "metadata": {},
   "source": [
    "### Below are a few examples of evaluating arithmetic expressions in Python"
   ]
  },
  {
   "cell_type": "code",
   "execution_count": 1,
   "id": "11d25589",
   "metadata": {},
   "outputs": [
    {
     "data": {
      "text/plain": [
       "17"
      ]
     },
     "execution_count": 1,
     "metadata": {},
     "output_type": "execute_result"
    }
   ],
   "source": [
    "#This a simple arithmetic expression to mutiply then add integers\n",
    "(3*4)+5"
   ]
  },
  {
   "cell_type": "code",
   "execution_count": 2,
   "id": "98b078ca",
   "metadata": {},
   "outputs": [
    {
     "data": {
      "text/plain": [
       "3.3333333333333335"
      ]
     },
     "execution_count": 2,
     "metadata": {},
     "output_type": "execute_result"
    }
   ],
   "source": [
    "#This will convert 200 minutes to hours by diving by 60\n",
    "200/60"
   ]
  },
  {
   "cell_type": "markdown",
   "id": "341ff79c",
   "metadata": {},
   "source": [
    "## Author\n",
    "Zijian Liao"
   ]
  },
  {
   "cell_type": "code",
   "execution_count": null,
   "id": "2db282cb",
   "metadata": {},
   "outputs": [],
   "source": []
  },
  {
   "cell_type": "code",
   "execution_count": null,
   "id": "96bf336c",
   "metadata": {},
   "outputs": [],
   "source": []
  }
 ],
 "metadata": {
  "kernelspec": {
   "display_name": "Python 3 (ipykernel)",
   "language": "python",
   "name": "python3"
  },
  "language_info": {
   "codemirror_mode": {
    "name": "ipython",
    "version": 3
   },
   "file_extension": ".py",
   "mimetype": "text/x-python",
   "name": "python",
   "nbconvert_exporter": "python",
   "pygments_lexer": "ipython3",
   "version": "3.11.4"
  }
 },
 "nbformat": 4,
 "nbformat_minor": 5
}
